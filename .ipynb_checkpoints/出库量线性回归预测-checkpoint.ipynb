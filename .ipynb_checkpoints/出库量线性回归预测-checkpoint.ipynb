{
 "cells": [
  {
   "cell_type": "markdown",
   "metadata": {
    "deletable": true,
    "editable": true
   },
   "source": [
    "在线性回归中，我们都知道必须在数据中找出一种线性关系，以使我们可以得到θ0和θ1。 我们的假设方程式如下所示："
   ]
  },
  {
   "cell_type": "code",
   "execution_count": 20,
   "metadata": {
    "collapsed": false
   },
   "outputs": [
    {
     "data": {
      "image/jpeg": "[encoded data removed]",
      "text/plain": [
       "<IPython.core.display.Image object>"
      ]
     },
     "execution_count": 20,
     "metadata": {},
     "output_type": "execute_result"
    }
   ],
   "source": [
    "from IPython.display import Image\n",
    "Image(filename=\"6941.jpg\")"
   ]
  },
  {
   "cell_type": "markdown",
   "metadata": {},
   "source": [
    "其中： hθ(x)是关于特定时间的出库量（我们要预测的值），（意思是出库量是出库时间的线性函数）； θ0是一个常数； θ1是回归系数。"
   ]
  },
  {
   "cell_type": "markdown",
   "metadata": {},
   "source": [
    "> 导入需要的库"
   ]
  },
  {
   "cell_type": "code",
   "execution_count": 21,
   "metadata": {
    "collapsed": true
   },
   "outputs": [],
   "source": [
    "import matplotlib.pyplot as plt\n",
    "import pandas as pd\n",
    "from sklearn import linear_model"
   ]
  },
  {
   "cell_type": "markdown",
   "metadata": {},
   "source": [
    "> 写一个函数把数据转换为X值（时间）、Y值（出库量）\n",
    "  将csv读入内存并转化为pandas数据集"
   ]
  },
  {
   "cell_type": "code",
   "execution_count": 22,
   "metadata": {
    "collapsed": true
   },
   "outputs": [],
   "source": [
    "def get_data(file_name):\n",
    " data = pd.read_csv(file_name)\n",
    " X_parameter = []\n",
    " Y_parameter = []\n",
    " for single_square_feet ,single_price_value in zip(data['time'],data['ckl']):\n",
    "       X_parameter.append([float(single_square_feet)])\n",
    "       Y_parameter.append(float(single_price_value))\n",
    " return X_parameter,Y_parameter"
   ]
  },
  {
   "cell_type": "markdown",
   "metadata": {},
   "source": [
    "* 现在把X_parameter和Y_parameter拟合为线性回归模型。我们要写一个函数，输入为X_parameters、Y_parameter和要预测的时间，返回θ0、θ1和预测出的出库量。"
   ]
  },
  {
   "cell_type": "markdown",
   "metadata": {},
   "source": [
    "* 首先，创建一个线性模型，用我们的X_parameters和Y_parameter训练它。\n",
    "\n",
    "  创建一个名称为predictions的字典，存着θ0、θ1和预测值，并返回predictions字典为输出。"
   ]
  },
  {
   "cell_type": "code",
   "execution_count": 23,
   "metadata": {
    "collapsed": true
   },
   "outputs": [],
   "source": [
    "def linear_model_main(X_parameters, Y_parameters, predict_value):\n",
    "    # Create linear regression object\n",
    "    regr = linear_model.LinearRegression()\n",
    "    regr.fit(X_parameters, Y_parameters)\n",
    "    predict_outcome = regr.predict(predict_value)\n",
    "    predictions = {}\n",
    "    predictions['intercept'] = regr.intercept_\n",
    "    predictions['coefficient'] = regr.coef_\n",
    "    predictions['predicted_value'] = predict_outcome\n",
    "    return predictions"
   ]
  },
  {
   "cell_type": "markdown",
   "metadata": {},
   "source": [
    "* 输出查看数据集"
   ]
  },
  {
   "cell_type": "code",
   "execution_count": 24,
   "metadata": {
    "collapsed": false
   },
   "outputs": [
    {
     "name": "stdout",
     "output_type": "stream",
     "text": [
      "[[20160325.0], [20160327.0], [20160401.0], [20160409.0], [20160413.0], [20160429.0], [20160505.0], [20160506.0], [20160508.0], [20160509.0], [20160510.0], [20160511.0], [20160513.0], [20160514.0], [20160515.0], [20160518.0], [20160521.0], [20160523.0], [20160524.0], [20160603.0], [20160604.0], [20160605.0], [20160530.0], [20160607.0], [20160608.0], [20160610.0], [20160611.0], [20160624.0], [20160628.0], [20160701.0], [20160702.0], [20160703.0], [20160704.0], [20160601.0], [20160706.0], [20160707.0], [20160713.0], [20160717.0], [20160722.0], [20160725.0], [20160726.0], [20160731.0], [20160080.0], [20160803.0], [20160804.0], [20160811.0], [20160814.0], [20160816.0], [20160826.0], [20160830.0], [20160831.0], [20160902.0], [20160904.0], [20160908.0], [20160910.0], [20160912.0], [20170109.0], [20170220.0], [20170303.0], [20170314.0]] [13.0, 14.0, 10.0, 5.0, 10.0, 15.0, 4.0, 5.0, 10.0, 15.0, 5.0, 10.0, 10.0, 10.0, 14.0, 10.0, 15.0, 10.0, 25.0, 5.0, 4.0, 5.0, 10.0, 11.0, 20.0, 23.0, 17.0, 10.0, 30.0, 10.0, 10.0, 10.0, 35.0, 15.0, 20.0, 10.0, 6.0, 36.0, 28.0, 6.0, 15.0, 15.0, 7.0, 20.0, 15.0, 10.0, 10.0, 45.0, 20.0, 10.0, 10.0, 10.0, 10.0, 10.0, 10.0, 1.0, 5.0, 10.0, 16.0, 5.0]\n"
     ]
    }
   ],
   "source": [
    "x,y = get_data('/home/vicent/PycharmProjects/mcdnn/data/ytt.csv')\n",
    "print x,y"
   ]
  },
  {
   "cell_type": "markdown",
   "metadata": {},
   "source": [
    "* 输入一个预测值进行测试"
   ]
  },
  {
   "cell_type": "code",
   "execution_count": 25,
   "metadata": {
    "collapsed": false
   },
   "outputs": [
    {
     "name": "stdout",
     "output_type": "stream",
     "text": [
      "Intercept value  8346.16699901\n",
      "coefficient [-0.00041332]\n",
      "Predicted value:  [ 9.34446979]\n"
     ]
    }
   ],
   "source": [
    "predictvalue = 20170317\n",
    "result = linear_model_main(x, y, predictvalue)\n",
    "print \"Intercept value \", result['intercept']\n",
    "print \"coefficient\", result['coefficient']\n",
    "print \"Predicted value: \", result['predicted_value']"
   ]
  },
  {
   "cell_type": "markdown",
   "metadata": {},
   "source": [
    "* 为了直观显示写一段显示代码"
   ]
  },
  {
   "cell_type": "code",
   "execution_count": 26,
   "metadata": {
    "collapsed": true
   },
   "outputs": [],
   "source": [
    "def show_linear_line(X_parameters,Y_parameters):\n",
    " # Create linear regression object\n",
    " regr = linear_model.LinearRegression()\n",
    " regr.fit(X_parameters, Y_parameters)\n",
    " plt.scatter(X_parameters,Y_parameters,color='blue')\n",
    " plt.plot(X_parameters,regr.predict(X_parameters),color='red',linewidth=4)\n",
    " plt.xticks(())\n",
    " plt.yticks(())\n",
    " plt.show()"
   ]
  },
  {
   "cell_type": "markdown",
   "metadata": {},
   "source": [
    "* 查看效果"
   ]
  },
  {
   "cell_type": "code",
   "execution_count": 27,
   "metadata": {
    "collapsed": false
   },
   "outputs": [
    {
     "data": {
      "image/png": "[encoded data removed]",
      "text/plain": [
       "<matplotlib.figure.Figure at 0x7f972162e110>"
      ]
     },
     "metadata": {},
     "output_type": "display_data"
    }
   ],
   "source": [
    "show_linear_line(x,y)"
   ]
  },
  {
   "cell_type": "code",
   "execution_count": null,
   "metadata": {
    "collapsed": true
   },
   "outputs": [],
   "source": []
  }
 ],
 "metadata": {
  "kernelspec": {
   "display_name": "Python 2",
   "language": "python",
   "name": "python2"
  },
  "language_info": {
   "codemirror_mode": {
    "name": "ipython",
    "version": 2
   },
   "file_extension": ".py",
   "mimetype": "text/x-python",
   "name": "python",
   "nbconvert_exporter": "python",
   "pygments_lexer": "ipython2",
   "version": "2.7.12"
  }
 },
 "nbformat": 4,
 "nbformat_minor": 2
}
